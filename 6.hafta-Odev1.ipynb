{
 "cells": [
  {
   "cell_type": "markdown",
   "id": "81c1ec0a",
   "metadata": {},
   "source": [
    "sozluk = {\"Kategori\": [\"Giyim\",\"Giyim\", \"Ayakkabı\",\"Aksesuar\",\"Ayakkabı\",\"Giyim\",\"Aksesuar\",\"Aksesuar\",\"Ayakkabı\",\"Giyim\"],\n",
    "  \"Ürün\" : [\"Kazak\",\"T-shirt\",\"Sandalet\",\"Küpe\",\"Spor Ayakkabı\",\"Pantolon\",\"Kolye\",\"Yüzük\",\"Çizme\",\"Ceket\"],\n",
    "\"Fiyat\" : [300,180,450,50,700,400,150,80,850,900]}\n",
    "\n",
    "Yukarıdaki sözlük DataFrame’e dönüştürülür.\n",
    "Yukarıdaki DataFrame için\n",
    "\n",
    "2.indexte bulunan kategori bulunur. (Sadece kategori bilgisi)\n",
    "\n",
    "2. indexte bulunan ürün bulunur. (Sadece ürün bilgisi)\n",
    "\n",
    "4.indexten 9.indexe kadar olan veriler bulunur. (Kategori,ürün,fiyat bilgisi beraber)\n",
    "\n",
    "1.indexten 6.indexe kadar olan ürünler bulunur. (Sadece ürün bilgisi)\n",
    "\n",
    "Yukarıdaki DataFrame için\n",
    "\n",
    "Giyim kategorisinde bulunan ürünler gösterilir.\n",
    "\n",
    "Ayakkabı kategorisinde bulunan ürünler gösterilir.\n",
    "\n",
    "Aksesuar kategorisinde bulunan ürünler gösterilir.\n",
    "\n",
    "Yukarıdaki DataFrame için\n",
    "\n",
    "Giyim kategorisinde fiyatı 300'den fazla olan ürünler gösterilir.\n",
    "\n",
    "Ayakkabı kategorisinde fiyatı 600'den az olan ürünler gösterilir.\n",
    "\n",
    "Aksesuar kategorisinde fiyatı 100'den fazla olan aksesuar gösterilir."
   ]
  },
  {
   "cell_type": "code",
   "execution_count": 1,
   "id": "29f9adb4",
   "metadata": {},
   "outputs": [],
   "source": [
    "import pandas as pd"
   ]
  },
  {
   "cell_type": "code",
   "execution_count": 2,
   "id": "f7c856ef",
   "metadata": {},
   "outputs": [
    {
     "name": "stdout",
     "output_type": "stream",
     "text": [
      "   Kategori           Ürün  Fiyat\n",
      "0     Giyim          Kazak    300\n",
      "1     Giyim        T-shirt    180\n",
      "2  Ayakkabı       Sandalet    450\n",
      "3  Aksesuar           Küpe     50\n",
      "4  Ayakkabı  Spor Ayakkabı    700\n",
      "5     Giyim       Pantolon    400\n",
      "6  Aksesuar          Kolye    150\n",
      "7  Aksesuar          Yüzük     80\n",
      "8  Ayakkabı          Çizme    850\n",
      "9     Giyim          Ceket    900\n"
     ]
    }
   ],
   "source": [
    "sozluk = {\"Kategori\": [\"Giyim\", \"Giyim\", \"Ayakkabı\", \"Aksesuar\", \"Ayakkabı\", \"Giyim\", \"Aksesuar\", \"Aksesuar\", \"Ayakkabı\", \"Giyim\"],\n",
    "          \"Ürün\": [\"Kazak\", \"T-shirt\", \"Sandalet\", \"Küpe\", \"Spor Ayakkabı\", \"Pantolon\", \"Kolye\", \"Yüzük\", \"Çizme\", \"Ceket\"],\n",
    "          \"Fiyat\": [300, 180, 450, 50, 700, 400, 150, 80, 850, 900]}\n",
    "\n",
    "df = pd.DataFrame(sozluk)\n",
    "print(df)\n"
   ]
  },
  {
   "cell_type": "code",
   "execution_count": 3,
   "id": "e03ce1f1",
   "metadata": {},
   "outputs": [
    {
     "name": "stdout",
     "output_type": "stream",
     "text": [
      "2. indexte bulunan kategori: Kategori    Ayakkabı\n",
      "Ürün        Sandalet\n",
      "Fiyat            450\n",
      "Name: 2, dtype: object\n"
     ]
    }
   ],
   "source": [
    "kategori_2 = df.loc[2]\n",
    "print(\"2. indexte bulunan kategori:\", kategori_2)"
   ]
  },
  {
   "cell_type": "code",
   "execution_count": 4,
   "id": "e849fc78",
   "metadata": {},
   "outputs": [
    {
     "name": "stdout",
     "output_type": "stream",
     "text": [
      "2. indexte bulunan ürün: Kategori    Ayakkabı\n",
      "Ürün        Sandalet\n",
      "Fiyat            450\n",
      "Name: 2, dtype: object\n"
     ]
    }
   ],
   "source": [
    "urun_2 = df.loc[2]\n",
    "print(\"2. indexte bulunan ürün:\", urun_2)"
   ]
  },
  {
   "cell_type": "code",
   "execution_count": 5,
   "id": "242beff7",
   "metadata": {},
   "outputs": [
    {
     "name": "stdout",
     "output_type": "stream",
     "text": [
      "4. indexten 9. indexe kadar olan veriler:\n",
      "    Kategori           Ürün  Fiyat\n",
      "4  Ayakkabı  Spor Ayakkabı    700\n",
      "5     Giyim       Pantolon    400\n",
      "6  Aksesuar          Kolye    150\n",
      "7  Aksesuar          Yüzük     80\n",
      "8  Ayakkabı          Çizme    850\n",
      "9     Giyim          Ceket    900\n"
     ]
    }
   ],
   "source": [
    "veriler_4_9 = df.loc[4:9]\n",
    "print(\"4. indexten 9. indexe kadar olan veriler:\\n\", veriler_4_9)"
   ]
  },
  {
   "cell_type": "code",
   "execution_count": 6,
   "id": "0cbefeb6",
   "metadata": {},
   "outputs": [
    {
     "name": "stdout",
     "output_type": "stream",
     "text": [
      "1. indexten 6. indexe kadar olan ürünler:\n",
      "    Kategori           Ürün  Fiyat\n",
      "1     Giyim        T-shirt    180\n",
      "2  Ayakkabı       Sandalet    450\n",
      "3  Aksesuar           Küpe     50\n",
      "4  Ayakkabı  Spor Ayakkabı    700\n",
      "5     Giyim       Pantolon    400\n",
      "6  Aksesuar          Kolye    150\n"
     ]
    }
   ],
   "source": [
    "urunler_1_6 = df.loc[1:6]\n",
    "print(\"1. indexten 6. indexe kadar olan ürünler:\\n\",urunler_1_6)"
   ]
  },
  {
   "cell_type": "code",
   "execution_count": 7,
   "id": "8a1ddd30",
   "metadata": {},
   "outputs": [
    {
     "name": "stdout",
     "output_type": "stream",
     "text": [
      "Giyim kategorisinde bulunan ürünler:\n",
      "0       Kazak\n",
      "1     T-shirt\n",
      "5    Pantolon\n",
      "9       Ceket\n",
      "Name: Ürün, dtype: object\n"
     ]
    }
   ],
   "source": [
    "giyim_urunler = df[df[\"Kategori\"] == \"Giyim\"][\"Ürün\"]\n",
    "print(\"Giyim kategorisinde bulunan ürünler:\")\n",
    "print(giyim_urunler)"
   ]
  },
  {
   "cell_type": "code",
   "execution_count": 8,
   "id": "d8493b99",
   "metadata": {},
   "outputs": [
    {
     "name": "stdout",
     "output_type": "stream",
     "text": [
      "Ayakkabı kategorisinde bulunan ürünler:\n",
      "    Kategori           Ürün  Fiyat\n",
      "2  Ayakkabı       Sandalet    450\n",
      "4  Ayakkabı  Spor Ayakkabı    700\n",
      "8  Ayakkabı          Çizme    850\n"
     ]
    }
   ],
   "source": [
    "ayakkabi_urunler = df[df[\"Kategori\"] == \"Ayakkabı\"]\n",
    "print(\"Ayakkabı kategorisinde bulunan ürünler:\\n\", ayakkabi_urunler)"
   ]
  },
  {
   "cell_type": "code",
   "execution_count": 9,
   "id": "0cb7f332",
   "metadata": {},
   "outputs": [
    {
     "name": "stdout",
     "output_type": "stream",
     "text": [
      "Aksesuar kategorisinde bulunan ürünler:\n",
      "    Kategori   Ürün  Fiyat\n",
      "3  Aksesuar   Küpe     50\n",
      "6  Aksesuar  Kolye    150\n",
      "7  Aksesuar  Yüzük     80\n"
     ]
    }
   ],
   "source": [
    "aksesuar_urunler = df[df[\"Kategori\"] == \"Aksesuar\"]\n",
    "print(\"Aksesuar kategorisinde bulunan ürünler:\\n\", aksesuar_urunler)"
   ]
  },
  {
   "cell_type": "code",
   "execution_count": 10,
   "id": "75360d81",
   "metadata": {},
   "outputs": [
    {
     "name": "stdout",
     "output_type": "stream",
     "text": [
      "Giyim kategorisinde fiyatı 300'den fazla olan ürünler:\n",
      "   Kategori      Ürün  Fiyat\n",
      "5    Giyim  Pantolon    400\n",
      "9    Giyim     Ceket    900\n"
     ]
    }
   ],
   "source": [
    "giyim_fiyat_buyuk_300 = df[(df[\"Kategori\"] == \"Giyim\") & (df[\"Fiyat\"] > 300)]\n",
    "print(\"Giyim kategorisinde fiyatı 300'den fazla olan ürünler:\\n\",giyim_fiyat_buyuk_300)"
   ]
  },
  {
   "cell_type": "code",
   "execution_count": 11,
   "id": "f6c32271",
   "metadata": {},
   "outputs": [
    {
     "name": "stdout",
     "output_type": "stream",
     "text": [
      "Ayakkabı kategorisinde fiyatı 600'den az olan ürünler:\n",
      "    Kategori      Ürün  Fiyat\n",
      "2  Ayakkabı  Sandalet    450\n"
     ]
    }
   ],
   "source": [
    "ayakkabi_fiyat_kucuk_600 = df[(df[\"Kategori\"] == \"Ayakkabı\") & (df[\"Fiyat\"] < 600)]\n",
    "print(\"Ayakkabı kategorisinde fiyatı 600'den az olan ürünler:\\n\",ayakkabi_fiyat_kucuk_600 )"
   ]
  },
  {
   "cell_type": "code",
   "execution_count": 12,
   "id": "fc5d67a8",
   "metadata": {},
   "outputs": [
    {
     "name": "stdout",
     "output_type": "stream",
     "text": [
      "Aksesuar kategorisinde fiyatı 100'den fazla olan aksesuarlar:\n",
      "    Kategori   Ürün  Fiyat\n",
      "6  Aksesuar  Kolye    150\n"
     ]
    }
   ],
   "source": [
    "aksesuar_fiyat_buyuk_100 = df[(df[\"Kategori\"] == \"Aksesuar\") & (df[\"Fiyat\"] > 100)]\n",
    "print(\"Aksesuar kategorisinde fiyatı 100'den fazla olan aksesuarlar:\\n\",aksesuar_fiyat_buyuk_100 )"
   ]
  }
 ],
 "metadata": {
  "kernelspec": {
   "display_name": "Python 3 (ipykernel)",
   "language": "python",
   "name": "python3"
  },
  "language_info": {
   "codemirror_mode": {
    "name": "ipython",
    "version": 3
   },
   "file_extension": ".py",
   "mimetype": "text/x-python",
   "name": "python",
   "nbconvert_exporter": "python",
   "pygments_lexer": "ipython3",
   "version": "3.11.4"
  }
 },
 "nbformat": 4,
 "nbformat_minor": 5
}
