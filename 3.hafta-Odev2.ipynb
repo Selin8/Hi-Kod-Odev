{
 "cells": [
  {
   "cell_type": "markdown",
   "id": "7a05787d",
   "metadata": {},
   "source": [
    "Ödev-1: Kullanıcıdan maaş bilgisini istenir ve bu bilgiye göre maaşından ne kadar vergi kesileceğini hesaplanır. Kullanıcının geliri;\n",
    "10000 ve altındaysa maaşından %5 kesinti olur. 25000 ve altındaysa maaşından %10 kesinti olur. 45000 ve altındaysa maaşından %25 kesinti olur. Diğer koşullarda %30 kesinti olur.\n",
    "Bu durumlara göre kullanıcının yeni maaşı yazdırılır."
   ]
  },
  {
   "cell_type": "code",
   "execution_count": null,
   "id": "81523664",
   "metadata": {},
   "outputs": [],
   "source": [
    "maas = float(input(\"Maaşınızı girin: \"))"
   ]
  },
  {
   "cell_type": "code",
   "execution_count": null,
   "id": "9611a498",
   "metadata": {},
   "outputs": [],
   "source": [
    "if maas <= 10000:\n",
    "    vergi_orani = 0.05\n",
    "elif maas <= 25000:\n",
    "    vergi_orani = 0.10\n",
    "elif maas <= 45000:\n",
    "    vergi_orani = 0.25\n",
    "else:\n",
    "    vergi_orani = 0.30"
   ]
  },
  {
   "cell_type": "code",
   "execution_count": null,
   "id": "d525ebd5",
   "metadata": {},
   "outputs": [],
   "source": [
    "vergi_kesintisi = maas * vergi_orani\n",
    "print(vergi_kesintisi)"
   ]
  },
  {
   "cell_type": "code",
   "execution_count": null,
   "id": "976286e7",
   "metadata": {},
   "outputs": [],
   "source": [
    "yeni_maas = maas - vergi_kesintisi\n",
    "print(yeni_maas)"
   ]
  },
  {
   "cell_type": "markdown",
   "id": "57514733",
   "metadata": {},
   "source": [
    "Ödev-2: Kullanıcıdan kullanıcı adı ve şifre oluşturmasını istenir. Şifrenin uzunluğu altı haneye ulaşmışsa hesabınız oluşturuldu mesajı alınır, altı haneden azsa altı haneli şifre oluşturması gerektiğinin mesajı alınır. (Sadece koşul kullanılması yeterli.)"
   ]
  },
  {
   "cell_type": "code",
   "execution_count": null,
   "id": "31f8b9ba",
   "metadata": {},
   "outputs": [],
   "source": [
    "kullanici_adi = input(\"Kullanıcı adı oluşturun: \")\n",
    "sifre = input(\"Şifre oluşturun: \")"
   ]
  },
  {
   "cell_type": "code",
   "execution_count": null,
   "id": "798f2ef3",
   "metadata": {},
   "outputs": [],
   "source": [
    "if len(sifre) >= 6:\n",
    "    print(\"Hesabınız oluşturuldu.\")\n",
    "else:\n",
    "    print(\"Altı haneli bir şifre oluşturmanız gerekiyor.\")"
   ]
  },
  {
   "cell_type": "markdown",
   "id": "34b7ff91",
   "metadata": {},
   "source": [
    "Ödev-3: Bir önceki örnek geliştirilir.\n",
    "\n",
    "Kullanıcı girdiği şifre 5 ve 10 hane arasında olmak zorunda.Eğer bu koşula uyuyorsa \"Hesabınız oluşturuldu.\" mesajı alır.Koşulu sağlamıyorsa \"Lütfen girdiniz şifre 5 haneden az 10 haneden fazla olmasın!\" uyarısı alır.Bunu oluştururken kullanıcı istediğimiz şartlarda şifre oluşturana kadar sormaya devam eder"
   ]
  },
  {
   "cell_type": "code",
   "execution_count": 1,
   "id": "2862b69d",
   "metadata": {},
   "outputs": [
    {
     "name": "stdout",
     "output_type": "stream",
     "text": [
      "Lütfen 5 ile 10 karakter arasında bir şifre oluşturun: 12345\n",
      "Hesabınız oluşturuldu.\n"
     ]
    }
   ],
   "source": [
    "while True:\n",
    "    if 5 <= len(sifre) <= 10:\n",
    "        print(\"Hesabınız oluşturuldu.\")\n",
    "        break\n",
    "    else:\n",
    "        print(\"Lütfen girdiğiniz şifre 5 karakterden az, 10 karakterden fazla olmasın!\")"
   ]
  },
  {
   "cell_type": "markdown",
   "id": "e65b0d1a",
   "metadata": {},
   "source": [
    "Ödev-4: Kullanıcıdan isim ve şifre isteyeceğiz ve şifre girişi için üç hak verilir.\n",
    "\n",
    "Eğer önceden tanımlı şifre ile kullanıcıdan gelen şifre aynıysa \"Giriş yapıldı.\" yazar.Şifre girişi yanlışsa \"Yanlış şifre girildi!\" uyarısı verilsin ve üç yanlış denemede program biter.Tercihe göre kalan hak bilgisi verilir."
   ]
  },
  {
   "cell_type": "code",
   "execution_count": 8,
   "id": "a02f9cfe",
   "metadata": {},
   "outputs": [],
   "source": [
    "dogru_sifre = \"123\""
   ]
  },
  {
   "cell_type": "code",
   "execution_count": 9,
   "id": "062737d3",
   "metadata": {},
   "outputs": [
    {
     "name": "stdout",
     "output_type": "stream",
     "text": [
      "İsminizi girin: selin\n"
     ]
    }
   ],
   "source": [
    "isim = input(\"İsminizi girin: \")"
   ]
  },
  {
   "cell_type": "code",
   "execution_count": 10,
   "id": "22a39f2e",
   "metadata": {},
   "outputs": [
    {
     "name": "stdout",
     "output_type": "stream",
     "text": [
      "Şifrenizi girin: 12\n",
      "Yanlış şifre girdiniz\n"
     ]
    }
   ],
   "source": [
    "sifre = input(\"Şifrenizi girin: \")\n",
    "\n",
    "if sifre == dogru_sifre:\n",
    "    print(\"Giriş yapıldı.\")\n",
    "else:\n",
    "    print(\"Yanlış şifre girdiniz\")\n"
   ]
  }
 ],
 "metadata": {
  "kernelspec": {
   "display_name": "Python 3 (ipykernel)",
   "language": "python",
   "name": "python3"
  },
  "language_info": {
   "codemirror_mode": {
    "name": "ipython",
    "version": 3
   },
   "file_extension": ".py",
   "mimetype": "text/x-python",
   "name": "python",
   "nbconvert_exporter": "python",
   "pygments_lexer": "ipython3",
   "version": "3.11.4"
  }
 },
 "nbformat": 4,
 "nbformat_minor": 5
}
