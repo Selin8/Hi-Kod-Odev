{
 "cells": [
  {
   "cell_type": "markdown",
   "id": "e8fe2a20",
   "metadata": {},
   "source": [
    "for index in range(len(meyveler)):\n",
    "print(\"{}. indexte bulunan meyve: {}\".format(index,meyveler[index])\n",
    "\n",
    "Enumerate method araştırılır ve belirlenen örnek enumerate metodu ile yapılır.\n",
    "\n",
    "Verilen listede bulunan string veri tipindeki öğeleri yeni_liste isimli listeye eklenir."
   ]
  },
  {
   "cell_type": "code",
   "execution_count": 28,
   "id": "ad85879b",
   "metadata": {},
   "outputs": [],
   "source": [
    "meyveler = [\"elma\", \"armut\", \"çilek\", \"kiraz\"]"
   ]
  },
  {
   "cell_type": "code",
   "execution_count": 29,
   "id": "327d80b2",
   "metadata": {},
   "outputs": [],
   "source": [
    "yeni_liste = []"
   ]
  },
  {
   "cell_type": "code",
   "execution_count": 34,
   "id": "bd545619",
   "metadata": {},
   "outputs": [
    {
     "name": "stdout",
     "output_type": "stream",
     "text": [
      "Sıra Numarası: 0, Meyve: elma\n",
      "Sıra Numarası: 1, Meyve: armut\n",
      "Sıra Numarası: 2, Meyve: çilek\n",
      "Sıra Numarası: 3, Meyve: kiraz\n"
     ]
    }
   ],
   "source": [
    "for index, meyve in enumerate(meyveler):\n",
    "    if isinstance(meyve, str): \n",
    "        yeni_liste.append(meyve)\n",
    "        print(f\"Sıra Numarası: {index}, Meyve: {meyve}\")\n",
    "      "
   ]
  }
 ],
 "metadata": {
  "kernelspec": {
   "display_name": "Python 3 (ipykernel)",
   "language": "python",
   "name": "python3"
  },
  "language_info": {
   "codemirror_mode": {
    "name": "ipython",
    "version": 3
   },
   "file_extension": ".py",
   "mimetype": "text/x-python",
   "name": "python",
   "nbconvert_exporter": "python",
   "pygments_lexer": "ipython3",
   "version": "3.11.4"
  }
 },
 "nbformat": 4,
 "nbformat_minor": 5
}
