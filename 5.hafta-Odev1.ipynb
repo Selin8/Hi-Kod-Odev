{
 "cells": [
  {
   "cell_type": "markdown",
   "id": "d1624506",
   "metadata": {},
   "source": [
    "Bir sözlük oluşturulur ve bu sözlükte öğrencilerin isimleri ve Matematik,Fizik,Kimya notları tutulur. Kullanıcıdan isim ve ders ismi(Matematik,Fizik,Kimya) istenir ve bu bilgilere göre çıktı verilir.\n",
    "\n",
    "Sözlük üzerinde değerleri değiştirme, yeni değer ekleme, kullanıcıya ulaşmak istediği bilgileri sorma gibi uygulamalar yapın."
   ]
  },
  {
   "cell_type": "code",
   "execution_count": 2,
   "id": "57b62a77",
   "metadata": {},
   "outputs": [],
   "source": [
    "ogrenci_notlari = {\"Selin\": {\"Matematik\": 75,\"Fizik\": 95,\"Kimya\": 80},\n",
    "                   \"Helin\": {\"Matematik\": 55,\"Fizik\": 100,\"Kimya\": 73},\n",
    "                   \"Pelin\": {\"Matematik\": 98,\"Fizik\": 60,\"Kimya\": 85}}"
   ]
  },
  {
   "cell_type": "code",
   "execution_count": 3,
   "id": "b15f089b",
   "metadata": {},
   "outputs": [
    {
     "name": "stdout",
     "output_type": "stream",
     "text": [
      "Öğrenci ismini girin: Selin\n",
      "Hangi dersin notunu öğrenmek istersiniz (Matematik/Fizik/Kimya): Kimya\n",
      "Selin adlı öğrencinin Kimya notu: 80\n"
     ]
    }
   ],
   "source": [
    "isim = input(\"Öğrenci ismini girin: \")\n",
    "ders = input(\"Hangi dersin notunu öğrenmek istersiniz (Matematik/Fizik/Kimya): \")\n",
    "\n",
    "if isim in ogrenci_notlari and ders in ogrenci_notlari[isim]:\n",
    "    notu = ogrenci_notlari[isim][ders]\n",
    "    print(f\"{isim} adlı öğrencinin {ders} notu: {notu}\")\n",
    "else:\n",
    "    print(\"Öğrenci veya ders bulunamadı. Lütfen tekrar deneyin.\")"
   ]
  },
  {
   "cell_type": "code",
   "execution_count": 4,
   "id": "9c398192",
   "metadata": {},
   "outputs": [
    {
     "name": "stdout",
     "output_type": "stream",
     "text": [
      "Yeni öğrencinin adını girin: Aylin\n",
      "Matematik notunu girin: 90\n",
      "Fizik notunu girin: 78\n",
      "Kimya notunu girin: 85\n"
     ]
    }
   ],
   "source": [
    "ogrenci_adi = input(\"Yeni öğrencinin adını girin: \")\n",
    "mat_notu = float(input(\"Matematik notunu girin: \"))\n",
    "fizik_notu = float(input(\"Fizik notunu girin: \"))\n",
    "kimya_notu = float(input(\"Kimya notunu girin: \"))"
   ]
  },
  {
   "cell_type": "code",
   "execution_count": 5,
   "id": "540d612f",
   "metadata": {},
   "outputs": [
    {
     "name": "stdout",
     "output_type": "stream",
     "text": [
      "Aylin adlı öğrencinin notları eklendi.\n"
     ]
    }
   ],
   "source": [
    "ogrenci_notlari[ogrenci_adi] = {\"Matematik\": mat_notu, \"Fizik\": fizik_notu, \"Kimya\": kimya_notu}\n",
    "print(f\"{ogrenci_adi} adlı öğrencinin notları eklendi.\")"
   ]
  }
 ],
 "metadata": {
  "kernelspec": {
   "display_name": "Python 3 (ipykernel)",
   "language": "python",
   "name": "python3"
  },
  "language_info": {
   "codemirror_mode": {
    "name": "ipython",
    "version": 3
   },
   "file_extension": ".py",
   "mimetype": "text/x-python",
   "name": "python",
   "nbconvert_exporter": "python",
   "pygments_lexer": "ipython3",
   "version": "3.11.4"
  }
 },
 "nbformat": 4,
 "nbformat_minor": 5
}
