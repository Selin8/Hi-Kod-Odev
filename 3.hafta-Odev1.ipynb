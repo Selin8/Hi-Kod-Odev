{
 "cells": [
  {
   "cell_type": "markdown",
   "id": "3f27d4ca",
   "metadata": {},
   "source": [
    "Ödev-1: Değişkenlere atanmış değerlerin veri tipleri arasında dönüşüm yapılır."
   ]
  },
  {
   "cell_type": "code",
   "execution_count": null,
   "id": "712aeb28",
   "metadata": {},
   "outputs": [],
   "source": [
    "a = \"10\"\n",
    "b = int(a) # a'yı integer dönüştürür"
   ]
  },
  {
   "cell_type": "code",
   "execution_count": 11,
   "id": "b728ab40",
   "metadata": {},
   "outputs": [
    {
     "data": {
      "text/plain": [
       "str"
      ]
     },
     "execution_count": 11,
     "metadata": {},
     "output_type": "execute_result"
    }
   ],
   "source": [
    "type(a)"
   ]
  },
  {
   "cell_type": "code",
   "execution_count": 12,
   "id": "581c1538",
   "metadata": {},
   "outputs": [
    {
     "data": {
      "text/plain": [
       "int"
      ]
     },
     "execution_count": 12,
     "metadata": {},
     "output_type": "execute_result"
    }
   ],
   "source": [
    "type(b)"
   ]
  },
  {
   "cell_type": "code",
   "execution_count": 15,
   "id": "0e88b38d",
   "metadata": {},
   "outputs": [],
   "source": [
    "x = 5\n",
    "y = float(x)  # x'i bir ondalık sayıya dönüştürür.\n",
    "z = str(x) # x'i string dönüştürür"
   ]
  },
  {
   "cell_type": "code",
   "execution_count": 13,
   "id": "2339c725",
   "metadata": {},
   "outputs": [
    {
     "data": {
      "text/plain": [
       "int"
      ]
     },
     "execution_count": 13,
     "metadata": {},
     "output_type": "execute_result"
    }
   ],
   "source": [
    "type(x)"
   ]
  },
  {
   "cell_type": "code",
   "execution_count": 14,
   "id": "95b7e55d",
   "metadata": {},
   "outputs": [
    {
     "data": {
      "text/plain": [
       "float"
      ]
     },
     "execution_count": 14,
     "metadata": {},
     "output_type": "execute_result"
    }
   ],
   "source": [
    "type(y)"
   ]
  },
  {
   "cell_type": "code",
   "execution_count": 16,
   "id": "9ea169cf",
   "metadata": {},
   "outputs": [
    {
     "data": {
      "text/plain": [
       "str"
      ]
     },
     "execution_count": 16,
     "metadata": {},
     "output_type": "execute_result"
    }
   ],
   "source": [
    "type(z)"
   ]
  },
  {
   "cell_type": "markdown",
   "id": "6008a9e1",
   "metadata": {},
   "source": [
    "Ödev-2: İsimlerden oluşan üç değişkene yaş değerleri atanır. Belirlenen üç değişken birbiriyle karşılaştırma operatörleri ile karşılaştırılır. Bu karşılaştırmalara mantıksal operatörler de eklenir."
   ]
  },
  {
   "cell_type": "code",
   "execution_count": 27,
   "id": "2a4691bf",
   "metadata": {},
   "outputs": [],
   "source": [
    "yas_selin = 30\n",
    "yas_helin = 25\n",
    "yas_pelin = 28"
   ]
  },
  {
   "cell_type": "code",
   "execution_count": 28,
   "id": "55d82c7c",
   "metadata": {},
   "outputs": [
    {
     "name": "stdout",
     "output_type": "stream",
     "text": [
      "True\n"
     ]
    }
   ],
   "source": [
    "print(yas_selin > yas_helin)"
   ]
  },
  {
   "cell_type": "code",
   "execution_count": 29,
   "id": "0caaae97",
   "metadata": {},
   "outputs": [
    {
     "name": "stdout",
     "output_type": "stream",
     "text": [
      "False\n"
     ]
    }
   ],
   "source": [
    "print(yas_helin > yas_pelin)"
   ]
  },
  {
   "cell_type": "code",
   "execution_count": 30,
   "id": "04266657",
   "metadata": {},
   "outputs": [
    {
     "name": "stdout",
     "output_type": "stream",
     "text": [
      "False\n"
     ]
    }
   ],
   "source": [
    "print(yas_selin > yas_helin and yas_helin > yas_pelin)"
   ]
  },
  {
   "cell_type": "code",
   "execution_count": 31,
   "id": "054ad030",
   "metadata": {},
   "outputs": [
    {
     "name": "stdout",
     "output_type": "stream",
     "text": [
      "True\n"
     ]
    }
   ],
   "source": [
    "print(yas_selin > yas_helin or yas_helin > yas_pelin)"
   ]
  },
  {
   "cell_type": "markdown",
   "id": "bc13e9a1",
   "metadata": {},
   "source": [
    "Ödev-3: Kullanıcıdan iki değer girmesini istenir. Girilen değerlerin toplama, çıkarma, çarpma, bölme sonuçlarını yazdırılır."
   ]
  },
  {
   "cell_type": "code",
   "execution_count": 37,
   "id": "958fb865",
   "metadata": {},
   "outputs": [
    {
     "name": "stdout",
     "output_type": "stream",
     "text": [
      "Birinci değeri girin: 12\n",
      "İkinci değeri girin: 11\n"
     ]
    }
   ],
   "source": [
    "sayi1 = int(input(\"Birinci değeri girin: \"))\n",
    "sayi2 = int(input(\"İkinci değeri girin: \"))"
   ]
  },
  {
   "cell_type": "code",
   "execution_count": 38,
   "id": "ce23d6db",
   "metadata": {},
   "outputs": [
    {
     "name": "stdout",
     "output_type": "stream",
     "text": [
      "Toplam: 23\n"
     ]
    }
   ],
   "source": [
    "toplam = sayi1 + sayi2\n",
    "print(\"Toplam:\", toplam)"
   ]
  },
  {
   "cell_type": "code",
   "execution_count": 34,
   "id": "b5a3d91d",
   "metadata": {},
   "outputs": [
    {
     "name": "stdout",
     "output_type": "stream",
     "text": [
      "Fark: -1.0\n"
     ]
    }
   ],
   "source": [
    "fark = sayi1 - sayi2\n",
    "print(\"Fark:\", fark)"
   ]
  },
  {
   "cell_type": "code",
   "execution_count": 39,
   "id": "367b1207",
   "metadata": {},
   "outputs": [
    {
     "name": "stdout",
     "output_type": "stream",
     "text": [
      "Çarpım: 132\n"
     ]
    }
   ],
   "source": [
    "carpim = sayi1 * sayi2\n",
    "print(\"Çarpım:\", carpim)"
   ]
  },
  {
   "cell_type": "code",
   "execution_count": 41,
   "id": "ade9e604",
   "metadata": {},
   "outputs": [
    {
     "name": "stdout",
     "output_type": "stream",
     "text": [
      "Bölüm: 1.0909090909090908\n"
     ]
    }
   ],
   "source": [
    "bölüm = sayi1 /sayi2\n",
    "print(\"Bölüm:\", bölüm)"
   ]
  },
  {
   "cell_type": "markdown",
   "id": "60d40ba0",
   "metadata": {},
   "source": [
    "Ödev-4: Kullanıcıdan isim, yaş, şehir ve meslek bilgilerini istenir ve cevaplarını yazdırılır"
   ]
  },
  {
   "cell_type": "code",
   "execution_count": 42,
   "id": "5a217b9a",
   "metadata": {},
   "outputs": [
    {
     "name": "stdout",
     "output_type": "stream",
     "text": [
      "Adınızı girin: selin\n",
      "Yaşınızı girin: 22\n",
      "Şehrinizi girin: ankara\n",
      "Mesleğinizi girin: s\n"
     ]
    }
   ],
   "source": [
    "isim = input(\"Adınızı girin: \")\n",
    "yas = input(\"Yaşınızı girin: \")\n",
    "sehir = input(\"Şehrinizi girin: \")\n",
    "meslek = input(\"Mesleğinizi girin: \")"
   ]
  },
  {
   "cell_type": "code",
   "execution_count": 44,
   "id": "11488579",
   "metadata": {},
   "outputs": [
    {
     "name": "stdout",
     "output_type": "stream",
     "text": [
      "Adı: selin\n",
      "Yaşı: 22\n",
      "Yaşadığı Şehir: ankara\n",
      "Mesleği: s\n"
     ]
    }
   ],
   "source": [
    "print(\"Adı:\", isim)\n",
    "print(\"Yaşı:\", yas)\n",
    "print(\"Yaşadığı Şehir:\", sehir)\n",
    "print(\"Mesleği:\", meslek)"
   ]
  },
  {
   "cell_type": "markdown",
   "id": "40c70f28",
   "metadata": {},
   "source": [
    "Ödev-5: \"Hi-Kod Veri Bilimi Atölyesi\" ifadesini bir değişkene tanımlanır.\n",
    "İfadedeki her bir kelimeyi (\"Hi-Kod\", \"Veri\", \"Bilimi\", \"Atölyesi\") değişken içinden seçilir.\n",
    "İfadeyi hepsini büyük harf olacak hale çevrilir. (\"HI-KOD VERİ BİLİMİ ATÖLYESİ\")\n",
    "İfadeyi hepsini küçük harf olacak hale çevrilir.(\"hi-kod veri bilimi atölyesi\")\n",
    "\"0123456789\" ifadesindeki yalnızca çift sayıları ve yalnızca tek sayıları seçilir. (\"02468\", \"13579\")"
   ]
  },
  {
   "cell_type": "code",
   "execution_count": 52,
   "id": "fc9e77c0",
   "metadata": {},
   "outputs": [],
   "source": [
    "cumle = \"Hi-Kod Veri Bilimi Atölyesi\""
   ]
  },
  {
   "cell_type": "code",
   "execution_count": 53,
   "id": "05e8d3ac",
   "metadata": {},
   "outputs": [
    {
     "name": "stdout",
     "output_type": "stream",
     "text": [
      "['Hi-Kod', 'Veri', 'Bilimi', 'Atölyesi']\n"
     ]
    }
   ],
   "source": [
    "kelimeler = cumle.split()\n",
    "print(kelimeler)"
   ]
  },
  {
   "cell_type": "code",
   "execution_count": 55,
   "id": "e2365e31",
   "metadata": {},
   "outputs": [
    {
     "name": "stdout",
     "output_type": "stream",
     "text": [
      "HI-KOD VERI BILIMI ATÖLYESI\n"
     ]
    }
   ],
   "source": [
    "buyukcumle = cumle.upper()\n",
    "print(buyukcumle)"
   ]
  },
  {
   "cell_type": "code",
   "execution_count": 56,
   "id": "f40e6405",
   "metadata": {},
   "outputs": [
    {
     "name": "stdout",
     "output_type": "stream",
     "text": [
      "hi-kod veri bilimi atölyesi\n"
     ]
    }
   ],
   "source": [
    "kucukcumle = cumle.lower()\n",
    "print(kucukcumle)"
   ]
  },
  {
   "cell_type": "code",
   "execution_count": 57,
   "id": "1969a2dd",
   "metadata": {},
   "outputs": [],
   "source": [
    "sayilar = \"0123456789\""
   ]
  },
  {
   "cell_type": "code",
   "execution_count": 81,
   "id": "9f67d0e8",
   "metadata": {},
   "outputs": [],
   "source": [
    "cift_sayilar =''.join([sayi for sayi in sayilar if int(sayi) % 2 == 0])\n",
    "tek_sayilar = ''.join([sayi for sayi in sayilar if int(sayi) % 2 != 0])"
   ]
  },
  {
   "cell_type": "code",
   "execution_count": 83,
   "id": "698aaf69",
   "metadata": {},
   "outputs": [
    {
     "name": "stdout",
     "output_type": "stream",
     "text": [
      "('02468', '13579')\n"
     ]
    }
   ],
   "source": [
    "print((cift_sayilar, tek_sayilar))"
   ]
  },
  {
   "cell_type": "code",
   "execution_count": null,
   "id": "b46e1ce9",
   "metadata": {},
   "outputs": [],
   "source": []
  }
 ],
 "metadata": {
  "kernelspec": {
   "display_name": "Python 3 (ipykernel)",
   "language": "python",
   "name": "python3"
  },
  "language_info": {
   "codemirror_mode": {
    "name": "ipython",
    "version": 3
   },
   "file_extension": ".py",
   "mimetype": "text/x-python",
   "name": "python",
   "nbconvert_exporter": "python",
   "pygments_lexer": "ipython3",
   "version": "3.11.4"
  }
 },
 "nbformat": 4,
 "nbformat_minor": 5
}
