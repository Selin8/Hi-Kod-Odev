{
 "cells": [
  {
   "cell_type": "markdown",
   "id": "81ba174b",
   "metadata": {},
   "source": [
    "Ödev-1: Kullanıcıdan pi değeri ve yarıçap bilgisi alarak dairenin alanını hesaplayan bir fonksiyon oluşturulur."
   ]
  },
  {
   "cell_type": "code",
   "execution_count": 11,
   "id": "0c673bc0",
   "metadata": {},
   "outputs": [
    {
     "name": "stdout",
     "output_type": "stream",
     "text": [
      "Pi değerini girin: 3.14\n",
      "Dairenin yarıçapını girin: 5\n"
     ]
    }
   ],
   "source": [
    "pi_degeri = float(input(\"Pi değerini girin: \"))\n",
    "yaricap_degeri = float(input(\"Dairenin yarıçapını girin: \"))"
   ]
  },
  {
   "cell_type": "code",
   "execution_count": 12,
   "id": "e0a0853f",
   "metadata": {},
   "outputs": [],
   "source": [
    "def daire_alani(pi, yaricap):\n",
    "    alan = pi * (yaricap ** 2)\n",
    "    return alan"
   ]
  },
  {
   "cell_type": "code",
   "execution_count": 13,
   "id": "89385064",
   "metadata": {},
   "outputs": [
    {
     "name": "stdout",
     "output_type": "stream",
     "text": [
      "Dairenin alanı: 78.5\n"
     ]
    }
   ],
   "source": [
    "alan = daire_alani(pi_degeri, yaricap_degeri)\n",
    "print(f\"Dairenin alanı: {alan}\")"
   ]
  },
  {
   "cell_type": "markdown",
   "id": "a9d194dd",
   "metadata": {},
   "source": [
    "Ödev-2: Faktöriyel adında fonksiyon oluşturulur. Döngü kullanarak parametre olarak girilen sayının faktöriyeli hesaplanır. Format metodunu kullanılarak ekrana yazdırılır."
   ]
  },
  {
   "cell_type": "code",
   "execution_count": 14,
   "id": "8403e7a4",
   "metadata": {},
   "outputs": [],
   "source": [
    "def faktoriyel(sayi):\n",
    "    faktoriyel = 1\n",
    "    for i in range(1, sayi + 1):\n",
    "        faktoriyel *= i\n",
    "    return faktoriyel"
   ]
  },
  {
   "cell_type": "code",
   "execution_count": 20,
   "id": "e9eaa9d4",
   "metadata": {},
   "outputs": [
    {
     "name": "stdout",
     "output_type": "stream",
     "text": [
      "Faktöriyelini hesaplamak istediğiniz sayıyı girin: 45\n",
      "45! = 119622220865480194561963161495657715064383733760000000000\n"
     ]
    }
   ],
   "source": [
    "sayi = int(input(\"Faktöriyelini hesaplamak istediğiniz sayıyı girin: \"))\n",
    "sonuc = faktoriyel(sayi)\n",
    "print(f\"{sayi}! = {sonuc}\")"
   ]
  },
  {
   "cell_type": "markdown",
   "id": "409e35cd",
   "metadata": {},
   "source": [
    "Ödev-3: Kişinin fonksiyona doğum yılını vererek kaç yaşında olduğunu hesaplayan bir fonksiyon oluşturun. "
   ]
  },
  {
   "cell_type": "code",
   "execution_count": 22,
   "id": "b58fa00b",
   "metadata": {},
   "outputs": [],
   "source": [
    "from datetime import date"
   ]
  },
  {
   "cell_type": "code",
   "execution_count": 23,
   "id": "73d1b03d",
   "metadata": {},
   "outputs": [],
   "source": [
    "def yas_hesapla(dogum_yili):\n",
    "    su_an = date.today().year\n",
    "    yas = su_an - dogum_yili\n",
    "    return yas"
   ]
  },
  {
   "cell_type": "code",
   "execution_count": 24,
   "id": "d38036f5",
   "metadata": {},
   "outputs": [
    {
     "name": "stdout",
     "output_type": "stream",
     "text": [
      "Doğum yılınızı girin: 2001\n",
      "Şu an 22 yaşındasınız.\n"
     ]
    }
   ],
   "source": [
    "dogum_yili = int(input(\"Doğum yılınızı girin: \"))\n",
    "yas = yas_hesapla(dogum_yili)\n",
    "print(f\"Şu an {yas} yaşındasınız.\")"
   ]
  },
  {
   "cell_type": "markdown",
   "id": "fa6beb81",
   "metadata": {},
   "source": [
    "Ödev-4: Doğum yılı ve isim bilgisi verilen fonksiyon kişinin emekli olup olmadığını söylesin.(Kişi 65 yaşında ise emekli olur.) Burada yaş hesabını yukarıdaki örnekteki fonksiyonu kullanarak yapsın.(Yani fonksiyon içinde fonksiyon kullanmanızı istiyorum :)) Kişi 65 yaşında ya da daha fazlaysa \"Emekli oldunuz\" yanıtını, 65 yaşından küçükse emekliliğine kaç yıl kaldığını da hesaplayarak \"(isim) emekliliğine (yıl) kaldı.\" yanıtını versin."
   ]
  },
  {
   "cell_type": "code",
   "execution_count": 29,
   "id": "b181ce2c",
   "metadata": {},
   "outputs": [],
   "source": [
    "def emeklilik_durumu(isim, dogum_yili):\n",
    "    yas = yas_hesapla(dogum_yili)\n",
    "    if yas >= 65:\n",
    "        print(f\"{isim}, emekli oldunuz.\")\n",
    "    else:\n",
    "        emeklilik_yasi = 65\n",
    "        kalan_yil = emeklilik_yasi - yas\n",
    "        print(f\"Emekliliğinize {kalan_yil} yıl kaldı.\")"
   ]
  },
  {
   "cell_type": "code",
   "execution_count": 30,
   "id": "94ad3ce0",
   "metadata": {},
   "outputs": [
    {
     "name": "stdout",
     "output_type": "stream",
     "text": [
      "İsminizi girin: selin\n",
      "Doğum yılınızı girin: 2001\n",
      "Emekliliğinize 43 yıl kaldı.\n"
     ]
    }
   ],
   "source": [
    "isim = input(\"İsminizi girin: \")\n",
    "dogum_yili = int(input(\"Doğum yılınızı girin: \"))\n",
    "emeklilik_durumu(isim, dogum_yili)"
   ]
  }
 ],
 "metadata": {
  "kernelspec": {
   "display_name": "Python 3 (ipykernel)",
   "language": "python",
   "name": "python3"
  },
  "language_info": {
   "codemirror_mode": {
    "name": "ipython",
    "version": 3
   },
   "file_extension": ".py",
   "mimetype": "text/x-python",
   "name": "python",
   "nbconvert_exporter": "python",
   "pygments_lexer": "ipython3",
   "version": "3.11.4"
  }
 },
 "nbformat": 4,
 "nbformat_minor": 5
}
