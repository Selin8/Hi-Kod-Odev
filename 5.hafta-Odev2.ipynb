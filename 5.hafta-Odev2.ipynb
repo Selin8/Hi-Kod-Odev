{
 "cells": [
  {
   "cell_type": "markdown",
   "id": "1395802c",
   "metadata": {},
   "source": [
    "Sayılardan oluşan bir boyutlu array oluşturulur. \n",
    "Arrayi oluştururken sayıların veri tipini integer olarak belirtilir. Oluşturulan arrayin boyut, eleman sayısı bilgilerine bakılır.\n",
    "\n",
    "İki ve üç boyutlu arrayler oluşturulur. Bu arraylerin boyut, eleman sayısı, satır, sütun bilgilerine ulaşılır. Arrayler üzerinde indexleme ve dilimleme(slicing) işlemi yapılır.\n",
    "\n",
    "Numpy fonksiyonu kullanarak bir, iki ve üç boyutlu arrayler oluşturulur. Arrayler üzerinde indexleme ve dilimleme(slicing) işlemi yapılır\n",
    "\n",
    "Sıfırlardan oluşan ve birlerden oluşan iki tane iki boyutlu array oluşturulur. Bu arrayler satır ve sütun bazında birleştirilir."
   ]
  },
  {
   "cell_type": "code",
   "execution_count": 2,
   "id": "40ae3fb4",
   "metadata": {},
   "outputs": [],
   "source": [
    "import numpy as np"
   ]
  },
  {
   "cell_type": "code",
   "execution_count": 3,
   "id": "bd9bf137",
   "metadata": {},
   "outputs": [],
   "source": [
    "sayilar = np.array([1, 2, 3, 4, 5], dtype=int)"
   ]
  },
  {
   "cell_type": "code",
   "execution_count": 4,
   "id": "7a09dbcb",
   "metadata": {},
   "outputs": [
    {
     "name": "stdout",
     "output_type": "stream",
     "text": [
      "Array Boyutu: (5,)\n"
     ]
    }
   ],
   "source": [
    "boyut = sayilar.shape\n",
    "print(\"Array Boyutu:\", boyut)"
   ]
  },
  {
   "cell_type": "code",
   "execution_count": 5,
   "id": "41bd6467",
   "metadata": {},
   "outputs": [
    {
     "name": "stdout",
     "output_type": "stream",
     "text": [
      "Eleman Sayısı: 5\n"
     ]
    }
   ],
   "source": [
    "eleman_sayisi = sayilar.size\n",
    "print(\"Eleman Sayısı:\", eleman_sayisi)"
   ]
  },
  {
   "cell_type": "code",
   "execution_count": 17,
   "id": "53fbfd1c",
   "metadata": {},
   "outputs": [],
   "source": [
    "bir_boyutlu = np.array([1, 2, 3, 4, 5])\n",
    "\n",
    "iki_boyutlu = np.array([[1, 2, 3, 4],\n",
    "                       [5, 6, 7, 8],\n",
    "                       [9, 10, 11, 12]])\n",
    "\n",
    "uc_boyutlu = np.array([[[1, 2],\n",
    "                       [3, 4],\n",
    "                       [5, 6]],\n",
    "                      [[7, 8],\n",
    "                       [9, 10],\n",
    "                       [11, 12]]])\n"
   ]
  },
  {
   "cell_type": "code",
   "execution_count": 18,
   "id": "ab918f6b",
   "metadata": {},
   "outputs": [
    {
     "name": "stdout",
     "output_type": "stream",
     "text": [
      "İki Boyutlu Array Boyutu: (3, 4)\n"
     ]
    }
   ],
   "source": [
    "boyut_iki = iki_boyutlu.shape\n",
    "print(\"İki Boyutlu Array Boyutu:\", boyut_iki)"
   ]
  },
  {
   "cell_type": "code",
   "execution_count": 19,
   "id": "b3ab414a",
   "metadata": {},
   "outputs": [
    {
     "name": "stdout",
     "output_type": "stream",
     "text": [
      "Üç Boyutlu Array Boyutu: (2, 3, 2)\n"
     ]
    }
   ],
   "source": [
    "boyut_uc = uc_boyutlu.shape\n",
    "print(\"Üç Boyutlu Array Boyutu:\", boyut_uc)"
   ]
  },
  {
   "cell_type": "code",
   "execution_count": 20,
   "id": "1ec7b0d5",
   "metadata": {},
   "outputs": [
    {
     "name": "stdout",
     "output_type": "stream",
     "text": [
      "İki Boyutlu Array Eleman Sayısı: 12\n"
     ]
    }
   ],
   "source": [
    "eleman_sayisi_iki = iki_boyutlu.size\n",
    "print(\"İki Boyutlu Array Eleman Sayısı:\", eleman_sayisi_iki)"
   ]
  },
  {
   "cell_type": "code",
   "execution_count": 21,
   "id": "237b61a2",
   "metadata": {},
   "outputs": [
    {
     "name": "stdout",
     "output_type": "stream",
     "text": [
      "Üç Boyutlu Array Eleman Sayısı: 12\n"
     ]
    }
   ],
   "source": [
    "eleman_sayisi_uc = uc_boyutlu.size\n",
    "print(\"Üç Boyutlu Array Eleman Sayısı:\", eleman_sayisi_uc)"
   ]
  },
  {
   "cell_type": "code",
   "execution_count": 22,
   "id": "00f9ea1d",
   "metadata": {},
   "outputs": [
    {
     "name": "stdout",
     "output_type": "stream",
     "text": [
      "Eleman: 7\n"
     ]
    }
   ],
   "source": [
    "eleman = iki_boyutlu[1, 2]\n",
    "print(\"Eleman:\", eleman)"
   ]
  },
  {
   "cell_type": "code",
   "execution_count": 23,
   "id": "5d2e0594",
   "metadata": {},
   "outputs": [
    {
     "name": "stdout",
     "output_type": "stream",
     "text": [
      "Satır: [5 6 7 8]\n"
     ]
    }
   ],
   "source": [
    "satir = iki_boyutlu[1, :]\n",
    "print(\"Satır:\", satir)"
   ]
  },
  {
   "cell_type": "code",
   "execution_count": 24,
   "id": "18183dac",
   "metadata": {},
   "outputs": [
    {
     "name": "stdout",
     "output_type": "stream",
     "text": [
      "Sütun: [ 4  8 12]\n"
     ]
    }
   ],
   "source": [
    "sutun = iki_boyutlu[:, 3]\n",
    "print(\"Sütun:\", sutun)"
   ]
  },
  {
   "cell_type": "code",
   "execution_count": 25,
   "id": "11882669",
   "metadata": {},
   "outputs": [
    {
     "name": "stdout",
     "output_type": "stream",
     "text": [
      "Üç Boyutlu Eleman: 12\n"
     ]
    }
   ],
   "source": [
    "eleman_uc = uc_boyutlu[1, 2, 1]\n",
    "print(\"Üç Boyutlu Eleman:\", eleman_uc)"
   ]
  },
  {
   "cell_type": "code",
   "execution_count": 26,
   "id": "d2bcf628",
   "metadata": {},
   "outputs": [
    {
     "name": "stdout",
     "output_type": "stream",
     "text": [
      "Üç Boyutlu Katman: [[1 2]\n",
      " [3 4]\n",
      " [5 6]]\n"
     ]
    }
   ],
   "source": [
    "katman = uc_boyutlu[0, :, :]\n",
    "print(\"Üç Boyutlu Katman:\", katman)"
   ]
  },
  {
   "cell_type": "code",
   "execution_count": 27,
   "id": "42930133",
   "metadata": {},
   "outputs": [
    {
     "name": "stdout",
     "output_type": "stream",
     "text": [
      "Sıfırlar Array:\n",
      " [[0 0 0]\n",
      " [0 0 0]]\n"
     ]
    }
   ],
   "source": [
    "array1 = np.zeros((2, 3), dtype=int)\n",
    "print(\"Sıfırlar Array:\\n\", array1)"
   ]
  },
  {
   "cell_type": "code",
   "execution_count": 28,
   "id": "cf7bb249",
   "metadata": {},
   "outputs": [
    {
     "name": "stdout",
     "output_type": "stream",
     "text": [
      "Birler Array:\n",
      " [[1 1 1]\n",
      " [1 1 1]]\n"
     ]
    }
   ],
   "source": [
    "array2 = np.ones((2, 3), dtype=int)\n",
    "print(\"Birler Array:\\n\", array2)"
   ]
  },
  {
   "cell_type": "code",
   "execution_count": 29,
   "id": "55e35072",
   "metadata": {},
   "outputs": [
    {
     "name": "stdout",
     "output_type": "stream",
     "text": [
      "Satır Bazında Birleştirilmiş Array:\n",
      " [[0 0 0]\n",
      " [0 0 0]\n",
      " [1 1 1]\n",
      " [1 1 1]]\n"
     ]
    }
   ],
   "source": [
    "birlesik_satir = np.vstack((array1, array2))\n",
    "print(\"Satır Bazında Birleştirilmiş Array:\\n\", birlesik_satir)"
   ]
  },
  {
   "cell_type": "code",
   "execution_count": 30,
   "id": "dff61735",
   "metadata": {},
   "outputs": [
    {
     "name": "stdout",
     "output_type": "stream",
     "text": [
      "Sütun Bazında Birleştirilmiş Array:\n",
      " [[0 0 0 1 1 1]\n",
      " [0 0 0 1 1 1]]\n"
     ]
    }
   ],
   "source": [
    "birlesik_sutun = np.hstack((array1, array2))\n",
    "print(\"Sütun Bazında Birleştirilmiş Array:\\n\", birlesik_sutun)"
   ]
  }
 ],
 "metadata": {
  "kernelspec": {
   "display_name": "Python 3 (ipykernel)",
   "language": "python",
   "name": "python3"
  },
  "language_info": {
   "codemirror_mode": {
    "name": "ipython",
    "version": 3
   },
   "file_extension": ".py",
   "mimetype": "text/x-python",
   "name": "python",
   "nbconvert_exporter": "python",
   "pygments_lexer": "ipython3",
   "version": "3.11.4"
  }
 },
 "nbformat": 4,
 "nbformat_minor": 5
}
